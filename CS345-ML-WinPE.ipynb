{
 "cells": [
  {
   "cell_type": "markdown",
   "id": "c4c3a55b-6e9d-40d5-88b7-78f0564fe067",
   "metadata": {},
   "source": [
    "# CS345 Final Project: Using Machine Learning on Windows Portable Eecutable Files\n",
    "By Jack Adams\n",
    "\n",
    "Github: https://github.com/free-belgian-waffles/CS3450-Project"
   ]
  },
  {
   "cell_type": "code",
   "execution_count": 5,
   "id": "a999f2af-f75b-41be-bebb-ef51533df79d",
   "metadata": {},
   "outputs": [],
   "source": [
    "import pandas as pd\n",
    "import numpy as np\n",
    "\n",
    "import matplotlib.pyplot as plt\n",
    "\n",
    "from sklearn.decomposition import PCA\n",
    "\n",
    "from sklearn.svm import SVC\n",
    "from sklearn.metrics import balanced_accuracy_score\n",
    "from sklearn.model_selection import train_test_split\n",
    "\n",
    "from sklearn.preprocessing import StandardScaler\n",
    "\n",
    "from sklearn.pipeline import Pipeline\n",
    "\n",
    "from sklearn.ensemble import BaggingClassifier\n",
    "\n",
    "from sklearn.ensemble import RandomForestClassifier\n",
    "from sklearn.ensemble import GradientBoostingClassifier\n",
    "from sklearn.ensemble import HistGradientBoostingClassifier"
   ]
  },
  {
   "cell_type": "markdown",
   "id": "a697854a-7aad-455c-a511-ae527db67ad5",
   "metadata": {},
   "source": [
    "## Introduction\n",
    "With computers getting easier and easier to use, the need for speedy malware detection and analysis is higher than ever. A common way which bad actors will target a system is by using Windows Portable Executable (PE) files. Windows PE files are essentially executable files which are wrapped in a single file in order to be executed on any system, which makes it very easy for bad actors to sneak malware into these files. This report looks at using different machine learning techniques in order to analyze a dataset of known Windows PE Malware, and comparing the results of these different predictive models to see how accurate and fast they are\n",
    "\n",
    "The dataset I will be using in this report is the SOMLAP Portable Executable Malware which is made up of a wide array of Windows PE sample files.\n",
    "The dataset and more information can be found here:\n",
    "- https://www.kaggle.com/datasets/ravikiranvarmap/somlap-data-set\n",
    "- Kattamuri, Santosh Jhansi, Ravi Kiran Varma Penmatsa, Sujata Chakravarty, and Venkata Sai Pavan Madabathula. 2023. \"Swarm Optimization and Machine Learning Applied to PE Malware Detection towards Cyber Threat Intelligence\" Electronics 12, no. 2: 342. https://doi.org/10.3390/electronics12020342\n"
   ]
  },
  {
   "cell_type": "markdown",
   "id": "aafd7600-0538-4ebc-873d-501341192767",
   "metadata": {},
   "source": [
    "## Exploring the Data\n",
    "To start this project, I'll show some general information about the dataset which could be useful for later classification"
   ]
  },
  {
   "cell_type": "code",
   "execution_count": 8,
   "id": "eb357d2a-bb88-4345-9a0d-2a6d0033ce38",
   "metadata": {},
   "outputs": [
    {
     "data": {
      "text/html": [
       "<div>\n",
       "<style scoped>\n",
       "    .dataframe tbody tr th:only-of-type {\n",
       "        vertical-align: middle;\n",
       "    }\n",
       "\n",
       "    .dataframe tbody tr th {\n",
       "        vertical-align: top;\n",
       "    }\n",
       "\n",
       "    .dataframe thead th {\n",
       "        text-align: right;\n",
       "    }\n",
       "</style>\n",
       "<table border=\"1\" class=\"dataframe\">\n",
       "  <thead>\n",
       "    <tr style=\"text-align: right;\">\n",
       "      <th></th>\n",
       "      <th>blp</th>\n",
       "      <th>Fp</th>\n",
       "      <th>Rn</th>\n",
       "      <th>Prhdr</th>\n",
       "      <th>Minpar</th>\n",
       "      <th>Maxpar</th>\n",
       "      <th>Ivalss</th>\n",
       "      <th>Ivalsp</th>\n",
       "      <th>doscksum</th>\n",
       "      <th>Iip</th>\n",
       "      <th>...</th>\n",
       "      <th>bss_viraddr</th>\n",
       "      <th>bss_datsize</th>\n",
       "      <th>bss_ptrrawdat</th>\n",
       "      <th>bss_char</th>\n",
       "      <th>bss_entro</th>\n",
       "      <th>bss_phyaddr.1</th>\n",
       "      <th>bss_virsize.1</th>\n",
       "      <th>bss_viraddr.1</th>\n",
       "      <th>bss_char.1</th>\n",
       "      <th>class</th>\n",
       "    </tr>\n",
       "  </thead>\n",
       "  <tbody>\n",
       "    <tr>\n",
       "      <th>0</th>\n",
       "      <td>144</td>\n",
       "      <td>3</td>\n",
       "      <td>0</td>\n",
       "      <td>4</td>\n",
       "      <td>0</td>\n",
       "      <td>65535</td>\n",
       "      <td>0</td>\n",
       "      <td>184</td>\n",
       "      <td>0</td>\n",
       "      <td>0</td>\n",
       "      <td>...</td>\n",
       "      <td>0</td>\n",
       "      <td>0</td>\n",
       "      <td>0</td>\n",
       "      <td>0</td>\n",
       "      <td>0.0</td>\n",
       "      <td>0</td>\n",
       "      <td>0</td>\n",
       "      <td>0</td>\n",
       "      <td>0</td>\n",
       "      <td>0</td>\n",
       "    </tr>\n",
       "    <tr>\n",
       "      <th>1</th>\n",
       "      <td>144</td>\n",
       "      <td>3</td>\n",
       "      <td>0</td>\n",
       "      <td>4</td>\n",
       "      <td>0</td>\n",
       "      <td>65535</td>\n",
       "      <td>0</td>\n",
       "      <td>184</td>\n",
       "      <td>0</td>\n",
       "      <td>0</td>\n",
       "      <td>...</td>\n",
       "      <td>0</td>\n",
       "      <td>0</td>\n",
       "      <td>0</td>\n",
       "      <td>0</td>\n",
       "      <td>0.0</td>\n",
       "      <td>0</td>\n",
       "      <td>0</td>\n",
       "      <td>0</td>\n",
       "      <td>0</td>\n",
       "      <td>0</td>\n",
       "    </tr>\n",
       "    <tr>\n",
       "      <th>2</th>\n",
       "      <td>144</td>\n",
       "      <td>3</td>\n",
       "      <td>0</td>\n",
       "      <td>4</td>\n",
       "      <td>0</td>\n",
       "      <td>65535</td>\n",
       "      <td>0</td>\n",
       "      <td>184</td>\n",
       "      <td>0</td>\n",
       "      <td>0</td>\n",
       "      <td>...</td>\n",
       "      <td>0</td>\n",
       "      <td>0</td>\n",
       "      <td>0</td>\n",
       "      <td>0</td>\n",
       "      <td>0.0</td>\n",
       "      <td>0</td>\n",
       "      <td>0</td>\n",
       "      <td>0</td>\n",
       "      <td>0</td>\n",
       "      <td>0</td>\n",
       "    </tr>\n",
       "    <tr>\n",
       "      <th>3</th>\n",
       "      <td>144</td>\n",
       "      <td>3</td>\n",
       "      <td>0</td>\n",
       "      <td>4</td>\n",
       "      <td>0</td>\n",
       "      <td>65535</td>\n",
       "      <td>0</td>\n",
       "      <td>184</td>\n",
       "      <td>0</td>\n",
       "      <td>0</td>\n",
       "      <td>...</td>\n",
       "      <td>0</td>\n",
       "      <td>0</td>\n",
       "      <td>0</td>\n",
       "      <td>0</td>\n",
       "      <td>0.0</td>\n",
       "      <td>0</td>\n",
       "      <td>0</td>\n",
       "      <td>0</td>\n",
       "      <td>0</td>\n",
       "      <td>0</td>\n",
       "    </tr>\n",
       "    <tr>\n",
       "      <th>4</th>\n",
       "      <td>144</td>\n",
       "      <td>3</td>\n",
       "      <td>0</td>\n",
       "      <td>4</td>\n",
       "      <td>0</td>\n",
       "      <td>65535</td>\n",
       "      <td>0</td>\n",
       "      <td>184</td>\n",
       "      <td>0</td>\n",
       "      <td>0</td>\n",
       "      <td>...</td>\n",
       "      <td>0</td>\n",
       "      <td>0</td>\n",
       "      <td>0</td>\n",
       "      <td>0</td>\n",
       "      <td>0.0</td>\n",
       "      <td>0</td>\n",
       "      <td>0</td>\n",
       "      <td>0</td>\n",
       "      <td>0</td>\n",
       "      <td>0</td>\n",
       "    </tr>\n",
       "  </tbody>\n",
       "</table>\n",
       "<p>5 rows × 109 columns</p>\n",
       "</div>"
      ],
      "text/plain": [
       "   blp  Fp  Rn  Prhdr  Minpar  Maxpar  Ivalss  Ivalsp  doscksum  Iip  ...  \\\n",
       "0  144   3   0      4       0   65535       0     184         0    0  ...   \n",
       "1  144   3   0      4       0   65535       0     184         0    0  ...   \n",
       "2  144   3   0      4       0   65535       0     184         0    0  ...   \n",
       "3  144   3   0      4       0   65535       0     184         0    0  ...   \n",
       "4  144   3   0      4       0   65535       0     184         0    0  ...   \n",
       "\n",
       "   bss_viraddr  bss_datsize  bss_ptrrawdat  bss_char  bss_entro  \\\n",
       "0            0            0              0         0        0.0   \n",
       "1            0            0              0         0        0.0   \n",
       "2            0            0              0         0        0.0   \n",
       "3            0            0              0         0        0.0   \n",
       "4            0            0              0         0        0.0   \n",
       "\n",
       "   bss_phyaddr.1  bss_virsize.1  bss_viraddr.1  bss_char.1  class  \n",
       "0              0              0              0           0      0  \n",
       "1              0              0              0           0      0  \n",
       "2              0              0              0           0      0  \n",
       "3              0              0              0           0      0  \n",
       "4              0              0              0           0      0  \n",
       "\n",
       "[5 rows x 109 columns]"
      ]
     },
     "execution_count": 8,
     "metadata": {},
     "output_type": "execute_result"
    }
   ],
   "source": [
    "url = 'https://raw.githubusercontent.com/free-belgian-waffles/CS3450-Project/main/SOMLAP%20DATASET(1).csv'\n",
    "\n",
    "somlap = pd.read_csv(url)\n",
    "\n",
    "somlap.head()"
   ]
  },
  {
   "cell_type": "code",
   "execution_count": 9,
   "id": "095dee28-2153-4bb0-a985-c28674795695",
   "metadata": {},
   "outputs": [
    {
     "name": "stdout",
     "output_type": "stream",
     "text": [
      "(51408, 109)\n",
      "Index(['blp', 'Fp', 'Rn', 'Prhdr', 'Minpar', 'Maxpar', 'Ivalss', 'Ivalsp',\n",
      "       'doscksum', 'Iip',\n",
      "       ...\n",
      "       'bss_viraddr', 'bss_datsize', 'bss_ptrrawdat', 'bss_char', 'bss_entro',\n",
      "       'bss_phyaddr.1', 'bss_virsize.1', 'bss_viraddr.1', 'bss_char.1',\n",
      "       'class'],\n",
      "      dtype='object', length=109)\n"
     ]
    },
    {
     "data": {
      "text/plain": [
       "class\n",
       "0    31600\n",
       "1    19808\n",
       "Name: count, dtype: int64"
      ]
     },
     "execution_count": 9,
     "metadata": {},
     "output_type": "execute_result"
    }
   ],
   "source": [
    "print(somlap.shape)\n",
    "print(somlap.columns)\n",
    "somlap['class'].value_counts()"
   ]
  },
  {
   "cell_type": "code",
   "execution_count": 10,
   "id": "258f3522-3a55-4946-a0a0-7dee183a5dfc",
   "metadata": {},
   "outputs": [
    {
     "data": {
      "image/png": "[encoded data removed]",
      "text/plain": [
       "<Figure size 640x480 with 1 Axes>"
      ]
     },
     "metadata": {},
     "output_type": "display_data"
    }
   ],
   "source": [
    "somlap['class'].value_counts().plot(kind=\"pie\",autopct=\"%1.1f%%\", labels=['Benign', 'Malware'])\n",
    "plt.show()"
   ]
  },
  {
   "cell_type": "markdown",
   "id": "9237c841-a667-453c-8604-398d31a4a1f9",
   "metadata": {},
   "source": [
    "The SOMLAP dataset has a total of 51,408 samples, with 31,600 of them being Benign and the remaining 19,808 being Malware\n",
    "This quick look into the dataset seems to reveal three things:\n",
    "1. Some of the features' values in the dataset are much larger than others, which implies that this dataset could be improved with standardization\n",
    "2. The dataset has 108 features which means that it has a very high dimensional space and could benefit from reducing the dimensionality using PCA.\n",
    "3. The benign to malware ration shows that the dataset is unbalanced and could lead to classifers having a bias towards the benign samples"
   ]
  },
  {
   "cell_type": "markdown",
   "id": "89b629ae-6fa2-4964-bce6-e7197f45b80a",
   "metadata": {},
   "source": [
    "## Linearly Separable\n",
    "If we want to compute SVC performance, it will be a good idea to check if the dataset is linearly seperable by using PCA to reduce the dimensionality of the dataset (as mentioned in bullet 2 above)."
   ]
  },
  {
   "cell_type": "code",
   "execution_count": 12,
   "id": "6444e881-3184-4eab-bb88-cd1afc6b727c",
   "metadata": {},
   "outputs": [
    {
     "data": {
      "image/png": "[encoded data removed]",
      "text/plain": [
       "<Figure size 640x480 with 1 Axes>"
      ]
     },
     "metadata": {},
     "output_type": "display_data"
    }
   ],
   "source": [
    "X_somlap = somlap.drop('class', axis=1).values\n",
    "y_somlap = somlap['class'].values\n",
    "\n",
    "n_components = 10\n",
    "X_somlap_reduced = PCA(n_components=n_components).fit_transform(X_somlap)\n",
    "scatter = plt.scatter(X_somlap_reduced[:, 0], X_somlap_reduced[:, 1], alpha=0.5, c=y_somlap)\n",
    "plt.legend(handles=scatter.legend_elements()[0], labels=['Benign', 'Malware'])\n",
    "plt.show()"
   ]
  },
  {
   "cell_type": "markdown",
   "id": "b690f186-7ad1-4f09-aee5-21de058e95d8",
   "metadata": {},
   "source": [
    "This graph shows us that the data in the SOMLAP dataset is in face not linearly seperable, thus we are able to exclude the use of a linear kernel from our baseline computation."
   ]
  },
  {
   "cell_type": "markdown",
   "id": "b0373143-ecbb-4b93-a23e-96a8027bf60d",
   "metadata": {},
   "source": [
    "## Baselining"
   ]
  },
  {
   "cell_type": "code",
   "execution_count": 16,
   "id": "e06c549a-e2b6-48ce-9ab7-6ec5063146b4",
   "metadata": {},
   "outputs": [],
   "source": [
    "def take_baselines(X, y, test_size=0.25, random_state=42):\n",
    "    X_train, X_test, y_train, y_test = train_test_split(X, y, test_size=test_size, random_state=random_state)\n",
    "    for kernel in ['poly', 'rbf', 'sigmoid']:\n",
    "        classifier = SVC(kernel=kernel, class_weight='balanced')\n",
    "        classifier.fit(X_train, y_train)\n",
    "        y_pred = classifier.predict(X_test)\n",
    "\n",
    "        accuracy = balanced_accuracy_score(y_test, y_pred)\n",
    "\n",
    "        print(f'{kernel} kernel accuracy: {accuracy}')\n",
    "\n"
   ]
  },
  {
   "cell_type": "code",
   "execution_count": 18,
   "id": "fa280caa-2305-458d-89bf-f254ce41d7b3",
   "metadata": {},
   "outputs": [
    {
     "name": "stdout",
     "output_type": "stream",
     "text": [
      "poly kernel accuracy: 0.8968690040118612\n",
      "rbf kernel accuracy: 0.9034585344109154\n",
      "sigmoid kernel accuracy: 0.8410614958234006\n",
      "3min 47s ± 0 ns per loop (mean ± std. dev. of 1 run, 1 loop each)\n"
     ]
    }
   ],
   "source": [
    "%timeit -r 1 -n 1 take_baselines(X_somlap, y_somlap)"
   ]
  },
  {
   "cell_type": "markdown",
   "id": "40e1842c-69c9-47ec-840a-b80deb4cafd9",
   "metadata": {},
   "source": [
    "## Standardization\n",
    "As shown in the above results, the RBF kernel will provide us with the highest accuracy. As stated in bullet 1, some of the features' values are very large, and so we will now see how Standardization will improve the dataset's accuracy."
   ]
  },
  {
   "cell_type": "code",
   "execution_count": 19,
   "id": "23d06e5f-6585-4e9c-b7b4-3c2df55cc541",
   "metadata": {},
   "outputs": [
    {
     "name": "stdout",
     "output_type": "stream",
     "text": [
      "Accuracy: 0.9632100703529275\n",
      "32.2 s ± 0 ns per loop (mean ± std. dev. of 1 run, 1 loop each)\n"
     ]
    }
   ],
   "source": [
    "X_somlap_std = StandardScaler().fit_transform(X_somlap)\n",
    "\n",
    "def evaluate_classifier(classifier, X, y, test_size=0.25, random_state=42):\n",
    "    X_train, X_test, y_train, y_test = train_test_split(X, y, test_size=test_size, random_state=random_state)\n",
    "    classifier.fit(X_train, y_train)\n",
    "    y_pred = classifier.predict(X_test)\n",
    "    print(f'Accuracy: {balanced_accuracy_score(y_test, y_pred)}')\n",
    "\n",
    "svc = SVC(kernel='rbf', class_weight='balanced')\n",
    "%timeit -r 1 -n 1 evaluate_classifier(svc, X_somlap_std, y_somlap)"
   ]
  },
  {
   "cell_type": "markdown",
   "id": "dbe3ded4-41cb-4ad4-948c-21b33d9d4c33",
   "metadata": {},
   "source": [
    "## Computational Time Reduction and Accuracy Improvement\n",
    "While the standardization yields a better performance, we would still want to reduce the dimensionality of the SOMLAP dataset. The reasoning for this is due to the fact that running SVC is computationally expensive when run on large datasets like SOMLAP. Reducing the dimensionality will greatly improve the performance and computational time of SVC."
   ]
  },
  {
   "cell_type": "code",
   "execution_count": 20,
   "id": "40428572-1e02-4d9c-8174-0889f587c1f1",
   "metadata": {},
   "outputs": [
    {
     "name": "stdout",
     "output_type": "stream",
     "text": [
      "{2: 0.841066341066341, 10: 0.9275345465821656, 25: 0.9530447506637982, 50: 0.9615239258096402, 75: 0.9634474872570111, 108: 0.9636509874605113}\n"
     ]
    },
    {
     "data": {
      "image/png": "[encoded data removed]",
      "text/plain": [
       "<Figure size 640x480 with 1 Axes>"
      ]
     },
     "metadata": {},
     "output_type": "display_data"
    }
   ],
   "source": [
    "def make_pipeline(n_components, kernel='rbf'):\n",
    "    return Pipeline([\n",
    "        ('scaler', StandardScaler()),\n",
    "        ('pca', PCA(n_components=n_components)),\n",
    "        ('svc', SVC(kernel=kernel, class_weight='balanced'))\n",
    "    ])\n",
    "\n",
    "def plot_parameters_accuracy(results):\n",
    "    plt.plot(list(results.keys()), list(results.values()), marker='o')\n",
    "    plt.title('Accuracies over n_components')\n",
    "    plt.xlabel('n_components')\n",
    "    plt.ylabel('Accuracy')\n",
    "    plt.show()\n",
    "\n",
    "def compute_svc_with_pca(X, y, test_size=0.25, random_state=42):\n",
    "    n_components_list = [2, 10, 25, 50, 75, 108]\n",
    "    results = {}\n",
    "    for n_components in n_components_list:\n",
    "        X_train, X_test, y_train, y_test = train_test_split(X, y, test_size=test_size, random_state=random_state)\n",
    "        classifier = make_pipeline(n_components)\n",
    "        classifier.fit(X_train, y_train)\n",
    "        y_pred = classifier.predict(X_test)\n",
    "        accuracy = balanced_accuracy_score(y_test, y_pred)\n",
    "\n",
    "        results[n_components] = accuracy\n",
    "\n",
    "    print(results)\n",
    "    plot_parameters_accuracy(results)\n",
    "\n",
    "compute_svc_with_pca(X_somlap, y_somlap)"
   ]
  },
  {
   "cell_type": "markdown",
   "id": "c54e2f5e-a4ae-4a60-9a01-23602aa469b5",
   "metadata": {},
   "source": [
    "Running SVC with PCA shows us that the accurracy seems to plateau around the 50 components mark on the graph. This number will be used in future operations since the change in accuracy above 50 is negligable. Using 50, we will now look to see if this makes the individual execution time improve."
   ]
  },
  {
   "cell_type": "code",
   "execution_count": 21,
   "id": "f363abf0-815c-46c4-bf1b-13046b6607b8",
   "metadata": {},
   "outputs": [
    {
     "name": "stdout",
     "output_type": "stream",
     "text": [
      "Accuracy: 0.962178033606605\n",
      "19.5 s ± 0 ns per loop (mean ± std. dev. of 1 run, 1 loop each)\n"
     ]
    }
   ],
   "source": [
    "classifier = make_pipeline(50)\n",
    "%timeit -r 1 -n 1 evaluate_classifier(classifier, X_somlap_std, y_somlap)"
   ]
  },
  {
   "cell_type": "markdown",
   "id": "bf0b7502-45f0-4a5d-942b-20991337ba6c",
   "metadata": {},
   "source": [
    "Using Bagging is another potential way to reduce the computation time for our dataset. The BaggingClassifier has a few key parameters, being max_samples, max_features, and n_jobs. Max_samples dictates which subset of samples will be used, max_features dictates the subset of features, and n_jobs is a parameter which will dictate running in parallel."
   ]
  },
  {
   "cell_type": "code",
   "execution_count": 22,
   "id": "b4aecb48-2b08-412f-8f4e-47b5913b2c48",
   "metadata": {},
   "outputs": [
    {
     "name": "stdout",
     "output_type": "stream",
     "text": [
      "{0.25: 0.9569790879314689, 0.5: 0.9613882590073066, 0.75: 0.9628369866465105}\n"
     ]
    },
    {
     "data": {
      "image/png": "[encoded data removed]",
      "text/plain": [
       "<Figure size 640x480 with 1 Axes>"
      ]
     },
     "metadata": {},
     "output_type": "display_data"
    }
   ],
   "source": [
    "def make_pipeline_bagging(max_samples, max_features, n_components=50, random_state=42, kernel='rbf', n_jobs=3):\n",
    "    return Pipeline([\n",
    "        ('scaler', StandardScaler()),\n",
    "        ('classifier', BaggingClassifier(estimator=SVC(kernel=kernel, class_weight='balanced'), max_samples=max_samples,\n",
    "                                          max_features=max_features, random_state=random_state, n_jobs=n_jobs))\n",
    "    ])\n",
    "\n",
    "def plot_parameters_accuracy(results):\n",
    "    plt.plot(list(results.keys()), list(results.values()), marker='o')\n",
    "    plt.title('Accuracies over max_features')\n",
    "    plt.xlabel('max_features')\n",
    "    plt.ylabel('Accuracy')\n",
    "    plt.show()\n",
    "    \n",
    "def compute_bagging(X, y, max_features=0.5, test_size=0.25, random_state=42):\n",
    "    max_samples_features_list = [(0.25, max_features), (0.5, max_features), (0.75, max_features)]\n",
    "    results = {}\n",
    "    for max_samples, max_features in max_samples_features_list:\n",
    "        X_train, X_test, y_train, y_test = train_test_split(X, y, test_size=test_size, random_state=random_state)\n",
    "        classifier = make_pipeline_bagging(max_samples, max_features)\n",
    "        classifier.fit(X_train, y_train)\n",
    "        y_pred = classifier.predict(X_test)\n",
    "        accuracy = balanced_accuracy_score(y_test, y_pred)\n",
    "\n",
    "        results[max_samples] = accuracy\n",
    "\n",
    "\n",
    "    print(results)\n",
    "    plot_parameters_accuracy(results)\n",
    "\n",
    "compute_bagging(X_somlap, y_somlap)"
   ]
  },
  {
   "cell_type": "markdown",
   "id": "732f94fb-22d0-4497-bcfa-c0659ad96901",
   "metadata": {},
   "source": [
    "By using 50% of both the samples and features of the dataset, we get an accuracy which is close enough to the one we got when using PCA. With these results we can now check if the execution time is better when we use bagging."
   ]
  },
  {
   "cell_type": "code",
   "execution_count": 23,
   "id": "15514b9f-7585-4748-98c6-bf6b1feaf82c",
   "metadata": {},
   "outputs": [
    {
     "name": "stdout",
     "output_type": "stream",
     "text": [
      "Accuracy: 0.9613882590073066\n",
      "30 s ± 0 ns per loop (mean ± std. dev. of 1 run, 1 loop each)\n"
     ]
    }
   ],
   "source": [
    "classifier = make_pipeline_bagging(0.5, 0.5)\n",
    "%timeit -r 1 -n 1 evaluate_classifier(classifier, X_somlap_std, y_somlap)"
   ]
  },
  {
   "cell_type": "markdown",
   "id": "f560c0ef-65cc-4a08-ab79-15fd69252ecb",
   "metadata": {},
   "source": [
    "Unfortunately bagging does not seem to make any improvement to the execution time over PCA. This is likely because bagging requires a larger subset of SOMLAP's samples in order to obtain an accuracy which is close to that of SVC, but with a far worse execution time."
   ]
  },
  {
   "cell_type": "markdown",
   "id": "606b3869-7e02-424f-840c-08105249b925",
   "metadata": {},
   "source": [
    "## SVC Hyperparameters, Random Forests, and Gradient Boosting\n",
    "Now that we have our SVC performance, we can use Random Forests, Gradient Boosting, and Histogram Gradient Boosting and compare the SVC performance.\n",
    "- Random Forest uses multiple decision trees on different subsets of the data and merges them together.\n",
    "- Gradient Boosting makes a sequence of decision trees with each tree containing the errors of the previous ones.\n",
    "- Histogram Gradient Boosting is a different type of Gradient Boosting which uses histograms during the splitting process, which reduces computation cost and is great for use on large datasets like ours.\n",
    "\n",
    "Each different type mentioned above are both computationally fast and very accurate. Because of this we should first try and maximize the accuracy of the SVC by computing the best hyperparameters using train, validation, and test splits."
   ]
  },
  {
   "cell_type": "code",
   "execution_count": 24,
   "id": "d37ca9f0-af6e-4070-b4bd-a24fb0502fa6",
   "metadata": {},
   "outputs": [],
   "source": [
    "def three_way_split(X, y, r_train=0.5, r_valid=0.25, r_test=0.25, random_state=42):\n",
    "    X_temp, X_test, y_temp, y_test = train_test_split(X, y, test_size = r_test, random_state=42)\n",
    "    X_train, X_valid, y_train, y_valid = train_test_split(\n",
    "        X_temp, y_temp, test_size = r_valid / (r_train + r_valid), random_state=42)\n",
    "    return X_train, y_train, X_valid, y_valid, X_test, y_test\n",
    "\n",
    "\n",
    "def optimal_hyperparameter(classifier, C, gamma, C_values, gamma_values,\n",
    "                           X_train, X_valid, y_train, y_valid):\n",
    "    optimal_accuracy = 0\n",
    "    optimal_C = None\n",
    "    optimal_gamma = None\n",
    "    for C_value in C_values:\n",
    "        for gamma_value in gamma_values:\n",
    "            param_dict = {C : C_value, gamma: gamma_value}\n",
    "            classifier.set_params(**param_dict)\n",
    "            classifier.fit(X_train, y_train)\n",
    "            y_pred = classifier.predict(X_valid)\n",
    "            current_accuracy = balanced_accuracy_score(y_valid, y_pred)\n",
    "\n",
    "            if current_accuracy > optimal_accuracy:\n",
    "                optimal_accuracy = current_accuracy\n",
    "                optimal_C = C_value\n",
    "                optimal_gamma = gamma_value\n",
    "    return optimal_C, optimal_gamma\n",
    "\n",
    "\n",
    "def evaluate_svc(classifier, X, y, C_values, gamma_values, r_train=0.5, r_valid=0.25, r_test=0.25, \n",
    "                 C='svc__C', gamma='svc__gamma'):\n",
    "    X_train, y_train, X_valid, y_valid, X_test, y_test = three_way_split(X, y)\n",
    "\n",
    "    C_value, gamma_value = optimal_hyperparameter(classifier, C, gamma, C_values, gamma_values, X_train, X_valid, y_train, y_valid)\n",
    "\n",
    "    param_dict = {C : C_value, gamma: gamma_value}\n",
    "    classifier.set_params(**param_dict)\n",
    "    classifier.fit(X_train, y_train)\n",
    "    y_pred = classifier.predict(X_test)\n",
    "\n",
    "    print(f'Accuracy {balanced_accuracy_score(y_test, y_pred)} with C {C_value} and gamma {gamma_value}')"
   ]
  },
  {
   "cell_type": "markdown",
   "id": "61889a99-5b5b-484a-8a25-694e8d1b0ce2",
   "metadata": {},
   "source": [
    "### Hyperparameter Selection With SVC"
   ]
  },
  {
   "cell_type": "code",
   "execution_count": 25,
   "id": "03b65eb1-f6e3-420e-b833-797691f4dafe",
   "metadata": {},
   "outputs": [
    {
     "name": "stdout",
     "output_type": "stream",
     "text": [
      "Accuracy 0.9754588445064636 with C 1000 and gamma 1.0\n",
      "5min 36s ± 0 ns per loop (mean ± std. dev. of 1 run, 1 loop each)\n"
     ]
    }
   ],
   "source": [
    "classifier = Pipeline([\n",
    "    ('scaler', StandardScaler()),\n",
    "    ('pca', PCA(n_components=50)),\n",
    "    ('svc', SVC(kernel='rbf', class_weight='balanced'))\n",
    "])\n",
    "\n",
    "gamma_values = [0.001, 1.0, 10.0]\n",
    "C_values = [10, 100, 1000]\n",
    "\n",
    "%timeit -r 1 -n 1 evaluate_svc(classifier, X_somlap, y_somlap, C_values, gamma_values)"
   ]
  },
  {
   "cell_type": "markdown",
   "id": "4b5933b3-5c78-483a-ad87-ae0ade9774c0",
   "metadata": {},
   "source": [
    "### Random Forest Classification"
   ]
  },
  {
   "cell_type": "code",
   "execution_count": 26,
   "id": "9e6aac25-0520-4c62-ad74-e37c0f0968c8",
   "metadata": {},
   "outputs": [
    {
     "name": "stdout",
     "output_type": "stream",
     "text": [
      "Accuracy: 0.9929743977363026\n",
      "775 ms ± 0 ns per loop (mean ± std. dev. of 1 run, 1 loop each)\n"
     ]
    }
   ],
   "source": [
    "random_forest = Pipeline([\n",
    "    ('scaler', StandardScaler()),\n",
    "    ('random_forest', RandomForestClassifier(n_estimators=100, max_samples=0.25,\n",
    "                                             random_state=42, class_weight='balanced', n_jobs=3))\n",
    "])\n",
    "%timeit -r 1 -n 1 evaluate_classifier(random_forest, X_somlap, y_somlap)"
   ]
  },
  {
   "cell_type": "markdown",
   "id": "1b385597-f6d6-46c2-807a-bed7fa114318",
   "metadata": {},
   "source": [
    "### Gradient Boosting Using Classification"
   ]
  },
  {
   "cell_type": "code",
   "execution_count": 27,
   "id": "ef684c12-2206-4200-8fdb-08227aa16906",
   "metadata": {},
   "outputs": [
    {
     "name": "stdout",
     "output_type": "stream",
     "text": [
      "Accuracy: 0.9898056088532279\n",
      "21.1 s ± 0 ns per loop (mean ± std. dev. of 1 run, 1 loop each)\n"
     ]
    }
   ],
   "source": [
    "gradient_boosting = Pipeline([\n",
    "    ('scaler', StandardScaler()),\n",
    "    ('gradient_boosting', GradientBoostingClassifier(n_estimators=100, random_state=42))\n",
    "])\n",
    "\n",
    "%timeit -r 1 -n 1 evaluate_classifier(gradient_boosting, X_somlap, y_somlap)"
   ]
  },
  {
   "cell_type": "markdown",
   "id": "a49fba90-b08c-4061-bfc3-8a86495c7403",
   "metadata": {},
   "source": [
    "### Gradient Boosting Using Histograms"
   ]
  },
  {
   "cell_type": "code",
   "execution_count": 29,
   "id": "a1b00aa9-03ec-431a-ac37-baa958434aa7",
   "metadata": {},
   "outputs": [
    {
     "name": "stdout",
     "output_type": "stream",
     "text": [
      "Accuracy: 0.99476229238134\n",
      "1.17 s ± 0 ns per loop (mean ± std. dev. of 1 run, 1 loop each)\n"
     ]
    }
   ],
   "source": [
    "hist_gradient_boosting = Pipeline([\n",
    "    ('scaler', StandardScaler()),\n",
    "    ('gradient_boosting', HistGradientBoostingClassifier(max_iter=100, random_state=42, l2_regularization=0.001))\n",
    "])\n",
    "\n",
    "%timeit -r 1 -n 1 evaluate_classifier(hist_gradient_boosting, X_somlap, y_somlap)"
   ]
  },
  {
   "cell_type": "markdown",
   "id": "87304300-6592-4fc3-bf7a-a2ab2b49bd01",
   "metadata": {},
   "source": [
    "## Conclusion and Summary\n",
    "In this report I employed a wide array of machine learning estimators on the SOMLAP dataset for Windows PE Malware. When starting with SVC, I found that using the RBF kernel was most efficent for our specific dataset. I then used Standardization to reduce computational time for SVC even further, and in the process discovered that using PCA with 50 components was much faster than using a bagging estimator. Following this, train, validation, and test splits were used to find the optimal hyperparameters for the SVC to gain an even better accuracy. The final thing I tried was comparing this accuracy against three different Classifiers, being RandomForest, GradientBoosting, and HistogramGradientBoosting. I discovered that these three have a much lower computational complexity as well as providing a much better accuracy than just using SVC."
   ]
  }
 ],
 "metadata": {
  "kernelspec": {
   "display_name": "Python 3 (ipykernel)",
   "language": "python",
   "name": "python3"
  },
  "language_info": {
   "codemirror_mode": {
    "name": "ipython",
    "version": 3
   },
   "file_extension": ".py",
   "mimetype": "text/x-python",
   "name": "python",
   "nbconvert_exporter": "python",
   "pygments_lexer": "ipython3",
   "version": "3.10.6"
  }
 },
 "nbformat": 4,
 "nbformat_minor": 5
}
